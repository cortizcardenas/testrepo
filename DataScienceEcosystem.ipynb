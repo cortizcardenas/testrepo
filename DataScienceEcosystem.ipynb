{
 "cells": [
  {
   "cell_type": "markdown",
   "id": "2bb44eaf-062d-4d1d-a5c9-84bded17202f",
   "metadata": {},
   "source": [
    "# Data Science Tools and Ecosystem"
   ]
  },
  {
   "cell_type": "markdown",
   "id": "59436076-2911-4ebb-85d7-f6650ee6f40c",
   "metadata": {},
   "source": [
    "In this notebook, Data Science Tools and Ecosystem are summarized.\n"
   ]
  },
  {
   "cell_type": "markdown",
   "id": "e453e975-5183-4ce2-a987-f6171818e40b",
   "metadata": {},
   "source": [
    "**Objectives**\n",
    "\n",
    "- Apply Markdown formatting\n",
    "- List popular languages for Data Science\n",
    "- Use Jupyter Notebook code cells for simple calculations\n"
   ]
  },
  {
   "cell_type": "markdown",
   "id": "9718a8ac-4bf8-495d-9be3-ccdaefa4ebe0",
   "metadata": {},
   "source": [
    "Some of the popular languages that Data Scientists use are:\n",
    "1. R\n",
    "2. Python\n",
    "3. SQL"
   ]
  },
  {
   "cell_type": "markdown",
   "id": "7a0036b5-558f-4b53-b8e4-cbb608b886fd",
   "metadata": {},
   "source": [
    "Some of the commonly used libraries used by Data Scientists include:\n",
    "\n",
    "1. Matplotlib\n",
    "2. Numpy\n",
    "3. Pandas"
   ]
  },
  {
   "cell_type": "markdown",
   "id": "49af80e0-9b85-4ab1-a854-f21986936209",
   "metadata": {},
   "source": [
    "| Data Science Tools               |\n",
    "|----------------------------------|\n",
    "| Jupyter Notebook                 |\n",
    "| RStudio                          |\n",
    "| Apache Spark                     |\n",
    "| Tableau                          | "
   ]
  },
  {
   "cell_type": "markdown",
   "id": "b0847e06-d782-4dee-8574-ff2487641cec",
   "metadata": {},
   "source": [
    "### Below are a few examples of evaluating arithmetic expressions in Python"
   ]
  },
  {
   "cell_type": "code",
   "execution_count": null,
   "id": "7119b255-7ec4-40d5-a04a-0cea053af33d",
   "metadata": {},
   "outputs": [
    {
     "data": {
      "text/plain": [
       "17"
      ]
     },
     "execution_count": 6,
     "metadata": {},
     "output_type": "execute_result"
    }
   ],
   "source": [
    "# This a simple arithmetic expression to multiply then add integers\n",
    "(3*4)+5"
   ]
  },
  {
   "cell_type": "code",
   "execution_count": null,
   "id": "31e48cbc-4139-4f3f-8c5e-7cd3727530ae",
   "metadata": {},
   "outputs": [
    {
     "data": {
      "text/plain": [
       "3.3333333333333335"
      ]
     },
     "execution_count": 7,
     "metadata": {},
     "output_type": "execute_result"
    }
   ],
   "source": [
    "# This will convert 200 minutes to hours by diving by 60\n",
    "200/60"
   ]
  },
  {
   "cell_type": "markdown",
   "id": "bdc3d802-fec3-4d4a-b2a0-e7311fdb6b98",
   "metadata": {},
   "source": [
    "## Author\n",
    "Carlos Ortiz Cardenas\n"
   ]
  }
 ],
 "metadata": {
  "kernelspec": {
   "display_name": "Python 3 (ipykernel)",
   "language": "python",
   "name": "python3"
  },
  "language_info": {
   "codemirror_mode": {
    "name": "ipython",
    "version": 3
   },
   "file_extension": ".py",
   "mimetype": "text/x-python",
   "name": "python",
   "nbconvert_exporter": "python",
   "pygments_lexer": "ipython3",
   "version": "3.11.9"
  }
 },
 "nbformat": 4,
 "nbformat_minor": 5
}
